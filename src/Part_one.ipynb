{
 "cells": [
  {
   "cell_type": "code",
   "execution_count": 1,
   "metadata": {},
   "outputs": [],
   "source": [
    "import numpy as np\n",
    "import pickle as pkl\n",
    "import matplotlib.pyplot as plt"
   ]
  },
  {
   "cell_type": "code",
   "execution_count": null,
   "metadata": {},
   "outputs": [],
   "source": [
    "#!git clone https://github.com/RoBarrault/SOD314.git\n"
   ]
  },
  {
   "cell_type": "code",
   "execution_count": null,
   "metadata": {},
   "outputs": [],
   "source": [
    "with open('SOD314/first_database.pkl', 'rb') as f:\n",
    "  x,y = pkl.load(f)"
   ]
  },
  {
   "cell_type": "code",
   "execution_count": null,
   "metadata": {},
   "outputs": [],
   "source": [
    "plt.plot(x,y,'o')\n",
    "plt.xlabel(\"x\")\n",
    "plt.ylabel(\"y\")"
   ]
  },
  {
   "cell_type": "code",
   "execution_count": 7,
   "metadata": {},
   "outputs": [],
   "source": [
    "with open('../databases/first_database.pkl', 'rb') as f:\n",
    "  x,y = pkl.load(f)\n",
    "\n",
    "def k(x,xi):\n",
    "  return np.exp(-(x-xi)**2) \n",
    "\n",
    "def K(X,N,M):\n",
    "  return np.array([[k(Xi,Xj) for Xj in X[M]] for Xi in X[N]])\n",
    "\n",
    "def K(X,M):\n",
    "  return K(X,M,M)\n",
    "\n",
    "def K(X,i,M):\n",
    "  return np.array([k(X[i],x[j]) for j in M])\n",
    "\n",
    "def f(alpha,X,N,M,Y,sigma):\n",
    "  alphaTKmm = alpha.T@K(X,M)\n",
    "  res = alphaTKmm@alpha*1/10 + sum([])\n"
   ]
  },
  {
   "cell_type": "code",
   "execution_count": 14,
   "metadata": {},
   "outputs": [
    {
     "data": {
      "text/plain": [
       "1.0"
      ]
     },
     "execution_count": 14,
     "metadata": {},
     "output_type": "execute_result"
    }
   ],
   "source": [
    "M = np.array([1, 2, 3])\n",
    "N = np.array([0, 1, 0]).T\n",
    "M@N*1/2"
   ]
  },
  {
   "cell_type": "code",
   "execution_count": null,
   "metadata": {},
   "outputs": [],
   "source": [
    "sigma = 0.5\n",
    "n = 100\n",
    "m = 10\n",
    "a = 5\n",
    "\n",
    "M = np.random.choice(np.array(range(n)),size=m, replace=False)\n",
    "\n",
    "x_selected = x[M]\n",
    "y_selected = y[M]"
   ]
  },
  {
   "cell_type": "code",
   "execution_count": null,
   "metadata": {},
   "outputs": [],
   "source": [
    "plt.plot(x[:n],y[:n],'o')\n",
    "plt.plot(x_selected,y_selected,'o',label=\"Selected points\")\n",
    "plt.legend()\n",
    "plt.xlabel(\"x\")\n",
    "plt.ylabel(\"y\")"
   ]
  },
  {
   "cell_type": "code",
   "execution_count": null,
   "metadata": {},
   "outputs": [],
   "source": [
    "agents = [x_selected for i in range(a)]\n",
    "W = np.ones((a,a))\n",
    "agent_x = np.zeros(a)\n",
    "agent_y = np.zeros(a)\n",
    "\n",
    "for i in range(a):\n",
    "  agent_x[i] = np.cos(2*np.pi*i/a)\n",
    "  agent_y[i] = np.sin(2*np.pi*i/a)\n",
    "\n",
    "plt.scatter(agent_x,agent_y)\n",
    "\n",
    "for i in range(a):\n",
    "  for j in range(a):\n",
    "    if W[i,j] == 1:\n",
    "      plt.plot([agent_x[i],agent_x[j]],[agent_y[i],agent_y[j]],c=\"blue\")"
   ]
  },
  {
   "cell_type": "code",
   "execution_count": null,
   "metadata": {},
   "outputs": [],
   "source": []
  }
 ],
 "metadata": {
  "kernelspec": {
   "display_name": "Python 3",
   "language": "python",
   "name": "python3"
  },
  "language_info": {
   "codemirror_mode": {
    "name": "ipython",
    "version": 3
   },
   "file_extension": ".py",
   "mimetype": "text/x-python",
   "name": "python",
   "nbconvert_exporter": "python",
   "pygments_lexer": "ipython3",
   "version": "3.9.13"
  },
  "orig_nbformat": 4,
  "vscode": {
   "interpreter": {
    "hash": "7e1030ff6c15101c4504552e1fd26e3c50211a94007dae20cf00ba941b82593a"
   }
  }
 },
 "nbformat": 4,
 "nbformat_minor": 2
}
